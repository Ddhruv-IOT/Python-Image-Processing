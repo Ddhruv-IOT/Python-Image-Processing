{
 "cells": [
  {
   "cell_type": "markdown",
   "id": "2996f6a7",
   "metadata": {},
   "source": [
    "# OpenCV and Tkinter\n",
    "\n",
    "## Displaying OpenCV camera output in Tkinter Window.\n",
    "\n",
    "### Steps: \n",
    "- Create a frame in tkinter\n",
    "- Add a Label to it\n",
    "- Take image input from camera using OpenCV\n",
    "- display the images capture by camera, one by one in trkinter Label using PIL.\n"
   ]
  },
  {
   "cell_type": "code",
   "execution_count": 1,
   "id": "f7e9dfee",
   "metadata": {},
   "outputs": [],
   "source": [
    "import cv2\n",
    "import tkinter as tk \n",
    "import numpy as np\n",
    "from PIL import ImageTk, Image"
   ]
  },
  {
   "cell_type": "code",
   "execution_count": 2,
   "id": "ef0b7128",
   "metadata": {},
   "outputs": [],
   "source": [
    "root = tk.Tk() # master window \n",
    "\n",
    "img_frame = tk.Frame(root, width=500, height=500) # frame to hold label\n",
    "img_frame.grid()\n",
    "\n",
    "label = tk.Label(img_frame) # label inside frame to hold image output of CV2\n",
    "label.grid()\n"
   ]
  },
  {
   "cell_type": "code",
   "execution_count": 3,
   "id": "26673213",
   "metadata": {},
   "outputs": [],
   "source": [
    "cam = cv2.VideoCapture(0)\n",
    "\n",
    "def video_camera(): \n",
    "    r, frame = cam.read()\n",
    "    cv2_based_image = cv2.cvtColor(frame, cv2.COLOR_RGB2GRAY)\n",
    "    \n",
    "    image = Image.fromarray(cv2_based_image)\n",
    "    photo = ImageTk.PhotoImage(image=image)\n",
    "    \n",
    "    label.imgtk = photo\n",
    "    \n",
    "    label.configure(image=photo)\n",
    "    label.after(10, video_camera) # keep looping to get video\n",
    "    \n",
    "    "
   ]
  },
  {
   "cell_type": "code",
   "execution_count": 4,
   "id": "29323eb2",
   "metadata": {},
   "outputs": [],
   "source": [
    "video_camera() # start camera function\n",
    "root.mainloop() # start GUI\n",
    "cam.release() # on close camera will be released and turned off."
   ]
  },
  {
   "cell_type": "code",
   "execution_count": 5,
   "id": "a86cbb14",
   "metadata": {},
   "outputs": [],
   "source": [
    "# Done"
   ]
  }
 ],
 "metadata": {
  "kernelspec": {
   "display_name": "Python 3",
   "language": "python",
   "name": "python3"
  },
  "language_info": {
   "codemirror_mode": {
    "name": "ipython",
    "version": 3
   },
   "file_extension": ".py",
   "mimetype": "text/x-python",
   "name": "python",
   "nbconvert_exporter": "python",
   "pygments_lexer": "ipython3",
   "version": "3.8.10"
  }
 },
 "nbformat": 4,
 "nbformat_minor": 5
}
