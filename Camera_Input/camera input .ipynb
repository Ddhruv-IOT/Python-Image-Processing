{
 "cells": [
  {
   "cell_type": "markdown",
   "id": "841c4132",
   "metadata": {},
   "source": [
    "# Capturing Video Input from Camera"
   ]
  },
  {
   "cell_type": "code",
   "execution_count": 1,
   "id": "21aece2b",
   "metadata": {},
   "outputs": [],
   "source": [
    "import cv2"
   ]
  },
  {
   "cell_type": "code",
   "execution_count": 4,
   "id": "99e5170d",
   "metadata": {},
   "outputs": [],
   "source": [
    "cam = cv2.VideoCapture(0)    # USING DEFAULT CAM\n",
    "#cam = cv2.VideoCapture(1)   # USING EXT. CAM\n",
    "#cam = cv2.VideoCapture(\"http://<ip>:<port>/video\") # USING WIRELESS CAM \n",
    "\n",
    "while 1:\n",
    "    r, vid_frame = cam.read()\n",
    "    if r:\n",
    "        cv2.imshow('preview', vid_frame)\n",
    "        halt_key = cv2.waitKey(1) & 0xff\n",
    "        if halt_key == 27:\n",
    "            break\n",
    "\n",
    "cam.release()\n",
    "cv2.destroyAllWindows()"
   ]
  },
  {
   "cell_type": "code",
   "execution_count": null,
   "id": "7d884ab5",
   "metadata": {},
   "outputs": [],
   "source": []
  }
 ],
 "metadata": {
  "kernelspec": {
   "display_name": "Python 3",
   "language": "python",
   "name": "python3"
  },
  "language_info": {
   "codemirror_mode": {
    "name": "ipython",
    "version": 3
   },
   "file_extension": ".py",
   "mimetype": "text/x-python",
   "name": "python",
   "nbconvert_exporter": "python",
   "pygments_lexer": "ipython3",
   "version": "3.8.10"
  }
 },
 "nbformat": 4,
 "nbformat_minor": 5
}
